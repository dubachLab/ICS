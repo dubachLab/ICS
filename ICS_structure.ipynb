{
 "cells": [
  {
   "cell_type": "code",
   "execution_count": null,
   "id": "e6bb697f-4d31-4e34-bb76-d7b9643fa2ed",
   "metadata": {},
   "outputs": [],
   "source": [
    "import skimage\n",
    "import pandas as pd\n",
    "import numpy as np\n",
    "import scipy.optimize as opt\n",
    "from scipy.fftpack import fft2, ifft2"
   ]
  },
  {
   "cell_type": "code",
   "execution_count": null,
   "id": "93733162-b012-41b0-bbda-caa29adecef6",
   "metadata": {},
   "outputs": [],
   "source": [
    "# functions\n",
    "\n",
    "def autocorrelation(x,intensity) :\n",
    "    f = fft2(x)\n",
    "    fConj = np.conj(f)\n",
    "    p = f*fConj\n",
    "    pi = ifft2(p)\n",
    "    return np.fft.fftshift(np.real(pi)/((intensity**2)*len(x)*len(x[0])))-1\n",
    "\n",
    "def correlationCorrection(x,corr) : \n",
    "    x[x < 0] = 0\n",
    "    y  = x*(1/corr)*9 \n",
    "    return y\n",
    "\n",
    "def func(M,a,b,c) :\n",
    "    x0 = xDim[indFitCrop[0]] # x and y values at peak\n",
    "    y0 = yDim[indFitCrop[1]]\n",
    "    x,y=M\n",
    "    return a*np.exp(-((x-x0)**2 + (y-y0)**2)/c**2)+b\n",
    "\n",
    "def fitCropping(z,h) :\n",
    "    ind = np.unravel_index(np.argmax(z, axis=None), z.shape)\n",
    "    if ind[0] > z.shape[0]-h or ind[1] > z.shape[1]-h or ind[0] < h or ind[1] < h:\n",
    "        return np.zeros((2*h,2*h))\n",
    "    else:\n",
    "        return z[ind[0]-h:ind[0]+h,ind[1]-h:ind[1]+h]\n",
    "\n",
    "###    \n",
    "def image_stdev(region, intensities):\n",
    "    # note the ddof arg to get the sample var if you so desire!\n",
    "    return np.std(intensities[region], ddof=1)"
   ]
  },
  {
   "cell_type": "code",
   "execution_count": null,
   "id": "5c4c391a-929e-494b-9e4e-94597d8e34b6",
   "metadata": {},
   "outputs": [],
   "source": [
    "#constants for fitting\n",
    "xDim = np.linspace(-(cropDim-1),cropDim,cropDim*2)*pixelSize #pixel size is dependent on image acquisition settings\n",
    "yDim = np.linspace(-(cropDim-1),cropDim,cropDim*2)*pixelSize\n",
    "X,Y=np.meshgrid(xDim,yDim)\n",
    "xdata = np.vstack((X.ravel(), Y.ravel()))\n",
    "initialGuess = (0.8, 0.14, 1.4)"
   ]
  },
  {
   "cell_type": "code",
   "execution_count": null,
   "id": "0b640454-8ea8-4964-a401-8abe02330fbd",
   "metadata": {},
   "outputs": [],
   "source": [
    "autoCorr = autocorrelation(regio,meanInt) # run correlation -- region is the region of interest\n",
    "\n",
    "autoCorrCorrected = correlationCorrection(autoCorr, extent) # correct correlation\n",
    "    \n",
    "fitCrop = fitCropping(autoCorrCorrected,cropDim) # crop autocorrelation for fitting\n",
    "indFitCrop = np.unravel_index(np.argmax(fitCrop, axis=None), fitCrop.shape)#find peak in cropped image\n",
    "popt,pcov = opt.curve_fit(func,xdata,fitCrop.ravel(), p0 = initialGuess) # fit\n",
    "\n",
    "# pull out parameters\n",
    "perr = np.sqrt(np.diag(pcov)) # stdev of fits\n",
    "nop = 1/popt[0]\n",
    "w0 = popt[2]\n",
    "DA = meanInt/nopAb1 # meanInt is the region intensity found from other functions, such as regionprops\n"
   ]
  }
 ],
 "metadata": {
  "kernelspec": {
   "display_name": "Python 3 (ipykernel)",
   "language": "python",
   "name": "python3"
  },
  "language_info": {
   "codemirror_mode": {
    "name": "ipython",
    "version": 3
   },
   "file_extension": ".py",
   "mimetype": "text/x-python",
   "name": "python",
   "nbconvert_exporter": "python",
   "pygments_lexer": "ipython3",
   "version": "3.11.7"
  }
 },
 "nbformat": 4,
 "nbformat_minor": 5
}
